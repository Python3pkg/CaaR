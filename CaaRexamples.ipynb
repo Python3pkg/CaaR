{
 "cells": [
  {
   "cell_type": "markdown",
   "metadata": {},
   "source": [
    "# CaaR package examples"
   ]
  },
  {
   "cell_type": "markdown",
   "metadata": {},
   "source": [
    "#### Release 4.0 (Beta)"
   ]
  },
  {
   "cell_type": "code",
   "execution_count": 1,
   "metadata": {
    "collapsed": false
   },
   "outputs": [
    {
     "name": "stdout",
     "output_type": "stream",
     "text": [
      "/home/nick/Documents/Research/thermo\n"
     ]
    }
   ],
   "source": [
    "%cd '/home/nick/Documents/Research/thermo'"
   ]
  },
  {
   "cell_type": "code",
   "execution_count": 2,
   "metadata": {
    "collapsed": false
   },
   "outputs": [],
   "source": [
    "import datetime as dt\n",
    "\n",
    "import numpy as np\n",
    "import pandas as pd\n",
    "import matplotlib.pyplot as plt\n",
    "import matplotlib.dates as mdates\n",
    "\n",
    "import caar as cr\n",
    "\n",
    "%matplotlib inline"
   ]
  },
  {
   "cell_type": "code",
   "execution_count": 3,
   "metadata": {
    "collapsed": false
   },
   "outputs": [],
   "source": [
    "import seaborn as sns; sns.set(color_codes=True)"
   ]
  },
  {
   "cell_type": "markdown",
   "metadata": {},
   "source": [
    "### Overview\n",
    "\n",
    "This introduction to CaaR shows how delimited text files are converted into indexed time series.\n",
    "\n",
    "The functionality applies to any text file with time stamped data observations (scalars or vectors).\n",
    "\n",
    "A plot of a multi-dimensional time series (operating status for an air conditioner and indoor temperatuure) is shown, based on the output of a CaaR time series function.\n",
    "\n",
    "With CaaR, text files only need to be read once in order to be converted into Python variables. The user can use the pickle_from_file() function to create a pickle file (binary) from a text file. CaaR can convert pickle files created this way into a pandas DataFrame at any time. This is significantly faster than reading raw text files into pandas directly.\n",
    "\n",
    "CaaR offers functions for summarizing and analyzing the data, and can convert DataFrames into NumPy time series index arrays and data arrays.\n",
    "\n",
    "To explore the capabilities in full, see the documentation at http://caar.readthedocs.org"
   ]
  },
  {
   "cell_type": "markdown",
   "metadata": {},
   "source": [
    "### Read original text files into key-value pairs (dicts)"
   ]
  },
  {
   "cell_type": "markdown",
   "metadata": {},
   "source": [
    "The **pickle_from_file()** and **dict_from_file()** functions convert delimited text files (comma- or tab-delimited) into key-value pairs (Python dicts). If the data covers multiple states, the output may be restricted to a particular states or states (using a comma-separated set of state abbreviations).\n",
    "\n",
    "See example .csv data files in the data folder at https://github.com/nickpowersys/caar\n",
    "\n",
    "The use of the *states* parameter is optional, and depends on sensor and postal metadata files (examples are also in the data folder in the Github repository)."
   ]
  },
  {
   "cell_type": "markdown",
   "metadata": {},
   "source": [
    "#### Raw data files"
   ]
  },
  {
   "cell_type": "markdown",
   "metadata": {},
   "source": [
    "Each data file is handled independently.\n",
    "\n",
    "This example shows each of the three types of data files CaaR can handle. If only one or two of these types of data are available, the other(s) is (are) not required.\n",
    "\n",
    "The types are\n",
    "\n",
    "* cycle device operations\n",
    "* sensor data from a sensor or sensors\n",
    "* geospatial data identified by location instead of by sensor (such as weather from an external/API source)"
   ]
  },
  {
   "cell_type": "markdown",
   "metadata": {},
   "source": [
    "The following are specific examples of the general categories described:"
   ]
  },
  {
   "cell_type": "code",
   "execution_count": 4,
   "metadata": {
    "collapsed": true
   },
   "outputs": [],
   "source": [
    "cycles = 'cycles.csv'         # Cycling device operations (in this example, air conditioners)\n",
    "inside_temps = 'inside.csv'   # Sensor data from sensors (in this case, building thermostats)\n",
    "outside_temps = 'outside.csv' # Temperatures associated with locations instead of sensors"
   ]
  },
  {
   "cell_type": "markdown",
   "metadata": {},
   "source": [
    "#### Optional parameters"
   ]
  },
  {
   "cell_type": "code",
   "execution_count": 5,
   "metadata": {
    "collapsed": true
   },
   "outputs": [],
   "source": [
    "cycle_mode = 'Cool' # for selecting only particular operation modes\n",
    "\n",
    "states = 'TX' # state or states, such as 'TX,CA[,ST]'\n",
    "\n",
    "thermostats_file = 'thermostats.csv' # A metadata file is needed when 'states' parameter is used.\n",
    "postal_file = 'us_postal_codes_clean.csv' # Needed when 'states' parameter is used.\n",
    "\n",
    "# These files are both in the caar repository in the data folder to serve as examples."
   ]
  },
  {
   "cell_type": "markdown",
   "metadata": {},
   "source": [
    "This dict is used to avoid having to re-state optional arguments for each type of data."
   ]
  },
  {
   "cell_type": "code",
   "execution_count": 6,
   "metadata": {
    "collapsed": true
   },
   "outputs": [],
   "source": [
    "kwargs = {'cycle':cycle_mode, 'states':states, 'sensors_file':thermostats_file, 'postal_file':postal_file}"
   ]
  },
  {
   "cell_type": "markdown",
   "metadata": {},
   "source": [
    "#### Function detect_columns() - summarize file content automatically (optional)"
   ]
  },
  {
   "cell_type": "markdown",
   "metadata": {},
   "source": [
    "The output summarizes file contents, without requiring the user to open the files themselves."
   ]
  },
  {
   "cell_type": "markdown",
   "metadata": {},
   "source": [
    "**Required:** Before detect_columns(), pickle_from_file() and dict_from_file(), specify type of data with the auto keyword parameter and any of the arguments: 'cycles', 'inside', 'outside'"
   ]
  },
  {
   "cell_type": "code",
   "execution_count": 8,
   "metadata": {
    "collapsed": true
   },
   "outputs": [],
   "source": [
    "kwargs['auto'] = 'cycles'"
   ]
  },
  {
   "cell_type": "code",
   "execution_count": 9,
   "metadata": {
    "collapsed": false
   },
   "outputs": [
    {
     "data": {
      "text/plain": [
       "OrderedDict([('id',\n",
       "              {'heading': 'ThermostatId', 'position': 0, 'type': 'ints'}),\n",
       "             ('cycle',\n",
       "              {'heading': 'CycleType', 'position': 1, 'type': 'alpha_only'}),\n",
       "             ('start_time',\n",
       "              {'heading': 'StartTime', 'position': 2, 'type': 'time'}),\n",
       "             ('end_time',\n",
       "              {'heading': 'EndTime', 'position': 3, 'type': 'time'}),\n",
       "             ('Minutes',\n",
       "              {'heading': 'Minutes', 'position': 4, 'type': 'floats'}),\n",
       "             ('kwH', {'heading': 'kwH', 'position': 5, 'type': 'floats'}),\n",
       "             ('BTUs', {'heading': 'BTUs', 'position': 6, 'type': 'floats'})])"
      ]
     },
     "execution_count": 9,
     "metadata": {},
     "output_type": "execute_result"
    }
   ],
   "source": [
    "cr.detect_columns(cycles, **kwargs)"
   ]
  },
  {
   "cell_type": "markdown",
   "metadata": {},
   "source": [
    "#### Ignore columns (optional) when creating pandas DataFrames and NumPy arrays (0-based positions or headings) "
   ]
  },
  {
   "cell_type": "code",
   "execution_count": 10,
   "metadata": {
    "collapsed": true
   },
   "outputs": [],
   "source": [
    "kwargs['cols_to_ignore'] = [4, 5, 6]"
   ]
  },
  {
   "cell_type": "code",
   "execution_count": 11,
   "metadata": {
    "collapsed": false
   },
   "outputs": [
    {
     "data": {
      "text/plain": [
       "OrderedDict([('id',\n",
       "              {'heading': 'ThermostatId', 'position': 0, 'type': 'ints'}),\n",
       "             ('cycle',\n",
       "              {'heading': 'CycleType', 'position': 1, 'type': 'alpha_only'}),\n",
       "             ('start_time',\n",
       "              {'heading': 'StartTime', 'position': 2, 'type': 'time'}),\n",
       "             ('end_time',\n",
       "              {'heading': 'EndTime', 'position': 3, 'type': 'time'})])"
      ]
     },
     "execution_count": 11,
     "metadata": {},
     "output_type": "execute_result"
    }
   ],
   "source": [
    "cr.detect_columns(cycles, **kwargs)"
   ]
  },
  {
   "cell_type": "markdown",
   "metadata": {},
   "source": [
    "#### Function pickle_from_file() - create file once to allow quick conversion to pandas and NumPy"
   ]
  },
  {
   "cell_type": "code",
   "execution_count": 12,
   "metadata": {
    "collapsed": false
   },
   "outputs": [],
   "source": [
    "cycles_pickle = cr.pickle_from_file(cycles, **kwargs)"
   ]
  },
  {
   "cell_type": "markdown",
   "metadata": {},
   "source": [
    "The function return value holds the file name as a string."
   ]
  },
  {
   "cell_type": "code",
   "execution_count": 13,
   "metadata": {
    "collapsed": false
   },
   "outputs": [
    {
     "name": "stdout",
     "output_type": "stream",
     "text": [
      "TX_cycles.pickle\n"
     ]
    }
   ],
   "source": [
    "print(cycles_pickle)"
   ]
  },
  {
   "cell_type": "code",
   "execution_count": 14,
   "metadata": {
    "collapsed": true
   },
   "outputs": [],
   "source": [
    "kwargs['auto'] = 'sensors'"
   ]
  },
  {
   "cell_type": "code",
   "execution_count": 15,
   "metadata": {
    "collapsed": true
   },
   "outputs": [],
   "source": [
    "kwargs['cols_to_ignore'] = None"
   ]
  },
  {
   "cell_type": "code",
   "execution_count": 16,
   "metadata": {
    "collapsed": false
   },
   "outputs": [
    {
     "data": {
      "text/plain": [
       "OrderedDict([('id',\n",
       "              {'heading': 'ThermostatId', 'position': 0, 'type': 'ints'}),\n",
       "             ('time', {'heading': 'LogDate', 'position': 1, 'type': 'time'}),\n",
       "             ('Degrees',\n",
       "              {'heading': 'Degrees', 'position': 2, 'type': 'ints'})])"
      ]
     },
     "execution_count": 16,
     "metadata": {},
     "output_type": "execute_result"
    }
   ],
   "source": [
    "cr.detect_columns(inside_temps, **kwargs)"
   ]
  },
  {
   "cell_type": "code",
   "execution_count": 17,
   "metadata": {
    "collapsed": true
   },
   "outputs": [],
   "source": [
    "inside_pickle = cr.pickle_from_file(inside_temps, **kwargs)"
   ]
  },
  {
   "cell_type": "code",
   "execution_count": 18,
   "metadata": {
    "collapsed": true
   },
   "outputs": [],
   "source": [
    "kwargs['auto'] = 'geospatial'"
   ]
  },
  {
   "cell_type": "code",
   "execution_count": 19,
   "metadata": {
    "collapsed": false
   },
   "outputs": [
    {
     "data": {
      "text/plain": [
       "OrderedDict([('id', {'heading': 'LocationId', 'position': 0, 'type': 'ints'}),\n",
       "             ('time', {'heading': 'LogDate', 'position': 1, 'type': 'time'}),\n",
       "             ('Degrees',\n",
       "              {'heading': 'Degrees', 'position': 2, 'type': 'ints'})])"
      ]
     },
     "execution_count": 19,
     "metadata": {},
     "output_type": "execute_result"
    }
   ],
   "source": [
    "cr.detect_columns(outside_temps, **kwargs)"
   ]
  },
  {
   "cell_type": "code",
   "execution_count": 20,
   "metadata": {
    "collapsed": false
   },
   "outputs": [],
   "source": [
    "outside_pickle = cr.pickle_from_file(outside_temps, **kwargs)"
   ]
  },
  {
   "cell_type": "markdown",
   "metadata": {},
   "source": [
    "Names of binary files from ct.pickle_from_file() are automatically created unless specified using the picklepath keyword argument.\n",
    "\n",
    "For example: kwargs['picklepath'] = 'my_cycle_file.pickle' can be specified before executing."
   ]
  },
  {
   "cell_type": "code",
   "execution_count": 21,
   "metadata": {
    "collapsed": false
   },
   "outputs": [
    {
     "name": "stdout",
     "output_type": "stream",
     "text": [
      "TX_cycles.pickle\n",
      "TX_sensors.pickle\n",
      "TX_geospatial.pickle\n"
     ]
    }
   ],
   "source": [
    "for f in [cycles_pickle, inside_pickle, outside_pickle]:\n",
    "    print(f)"
   ]
  },
  {
   "cell_type": "markdown",
   "metadata": {},
   "source": [
    "#### Function random_record() - selects data observation for inspection"
   ]
  },
  {
   "cell_type": "code",
   "execution_count": 22,
   "metadata": {
    "collapsed": false
   },
   "outputs": [],
   "source": [
    "random_inside = cr.random_record('TX_sensors.pickle', value_only=False)"
   ]
  },
  {
   "cell_type": "markdown",
   "metadata": {},
   "source": [
    "The index for records containing sensor-type observations is based on an ID and a time stamp."
   ]
  },
  {
   "cell_type": "code",
   "execution_count": 23,
   "metadata": {
    "collapsed": false
   },
   "outputs": [
    {
     "data": {
      "text/plain": [
       "(Sensor(sensor_id=240, timestamp=datetime.datetime(2012, 9, 21, 18, 38, 8)),\n",
       " 75)"
      ]
     },
     "execution_count": 23,
     "metadata": {},
     "output_type": "execute_result"
    }
   ],
   "source": [
    "random_inside # The value of the data observation is 75."
   ]
  },
  {
   "cell_type": "markdown",
   "metadata": {},
   "source": [
    "#### Function dict_from_file() - alternative to creating pickle file"
   ]
  },
  {
   "cell_type": "markdown",
   "metadata": {},
   "source": [
    "An example of selecting a random data observation from a dict (instead of a pickle file holding a dict) follows.\n",
    "\n",
    "Note the use of column headings to ignore some columns (above, integers indicating column positions were used)."
   ]
  },
  {
   "cell_type": "code",
   "execution_count": 24,
   "metadata": {
    "collapsed": false
   },
   "outputs": [],
   "source": [
    "kwargs['auto'] = 'cycles'\n",
    "kwargs['cols_to_ignore'] = ['Minutes', 'kwH', 'BTUs']\n",
    "cycles_dict = cr.dict_from_file(cycles, **kwargs)\n",
    "random_cycles = cr.random_record(cycles_dict, value_only=False)"
   ]
  },
  {
   "cell_type": "markdown",
   "metadata": {},
   "source": [
    "If the data contain two time stamps per record and the argument `auto='cycles'` is used, record keys are based on \n",
    "\n",
    "1. a device or sensor ID \n",
    "2. a cycle mode if one has been specified, otherwise this part of the index is left as 'None'\n",
    "3. the first time stamp in the records (from left to right): the start time\n",
    "\n",
    "The value is the second time stamp, or ending time of the cycle."
   ]
  },
  {
   "cell_type": "code",
   "execution_count": 25,
   "metadata": {
    "collapsed": false
   },
   "outputs": [
    {
     "data": {
      "text/plain": [
       "(Cycle(device_id=520, cycle_mode='Cool', start_time=datetime.datetime(2012, 7, 9, 3, 20, 30)),\n",
       " datetime.datetime(2012, 7, 9, 3, 23, 31))"
      ]
     },
     "execution_count": 25,
     "metadata": {},
     "output_type": "execute_result"
    }
   ],
   "source": [
    "random_cycles"
   ]
  },
  {
   "cell_type": "code",
   "execution_count": 26,
   "metadata": {
    "collapsed": false
   },
   "outputs": [],
   "source": [
    "kwargs['auto'] = 'outside'\n",
    "kwargs['cols_to_ignore'] = None\n",
    "random_outside = cr.random_record(outside_pickle, value_only=False)"
   ]
  },
  {
   "cell_type": "markdown",
   "metadata": {},
   "source": [
    "In this example, the value of 55 is an outdoor temperature."
   ]
  },
  {
   "cell_type": "code",
   "execution_count": 27,
   "metadata": {
    "collapsed": false
   },
   "outputs": [
    {
     "data": {
      "text/plain": [
       "(Geospatial(location_id=520, timestamp=datetime.datetime(2013, 4, 4, 22, 30, 49)),\n",
       " 55)"
      ]
     },
     "execution_count": 27,
     "metadata": {},
     "output_type": "execute_result"
    }
   ],
   "source": [
    "random_outside"
   ]
  },
  {
   "cell_type": "markdown",
   "metadata": {},
   "source": [
    "The only difference between the dict_from_file() and pickle_from_file() functions is that pickle_from_file() creates a pickle file, which allows faster read access in later sessions than text files.\n",
    "\n",
    "With both functions, the output can be an input to the DataFrame creation functions, which are described next."
   ]
  },
  {
   "cell_type": "markdown",
   "metadata": {},
   "source": [
    "### Reading dicts into pandas DataFrames"
   ]
  },
  {
   "cell_type": "markdown",
   "metadata": {},
   "source": [
    "Using the pickle file or dict (like cycles_dict above) as input, there is one function for each kind of data (for cycles, indoor temperatures, or outdoor temperatures) that creates a pandas DataFrame."
   ]
  },
  {
   "cell_type": "code",
   "execution_count": 28,
   "metadata": {
    "collapsed": true
   },
   "outputs": [],
   "source": [
    "cycles_pickle = 'TX_cycles.pickle'\n",
    "inside_pickle = 'TX_sensors.pickle'\n",
    "outside_pickle = 'TX_geospatial.pickle'"
   ]
  },
  {
   "cell_type": "code",
   "execution_count": 29,
   "metadata": {
    "collapsed": false
   },
   "outputs": [],
   "source": [
    "cycles_df = cr.create_cycles_df(cycles_pickle)"
   ]
  },
  {
   "cell_type": "code",
   "execution_count": 30,
   "metadata": {
    "collapsed": false
   },
   "outputs": [
    {
     "data": {
      "text/html": [
       "<div>\n",
       "<table border=\"1\" class=\"dataframe\">\n",
       "  <thead>\n",
       "    <tr style=\"text-align: right;\">\n",
       "      <th></th>\n",
       "      <th></th>\n",
       "      <th></th>\n",
       "      <th>EndTime</th>\n",
       "    </tr>\n",
       "    <tr>\n",
       "      <th>ThermostatId</th>\n",
       "      <th>CycleType</th>\n",
       "      <th>StartTime</th>\n",
       "      <th></th>\n",
       "    </tr>\n",
       "  </thead>\n",
       "  <tbody>\n",
       "    <tr>\n",
       "      <th rowspan=\"5\" valign=\"top\">24</th>\n",
       "      <th rowspan=\"5\" valign=\"top\">Cool</th>\n",
       "      <th>2011-07-03 20:55:20</th>\n",
       "      <td>2011-07-03 21:06:20</td>\n",
       "    </tr>\n",
       "    <tr>\n",
       "      <th>2011-07-05 20:53:45</th>\n",
       "      <td>2011-07-05 21:03:51</td>\n",
       "    </tr>\n",
       "    <tr>\n",
       "      <th>2011-07-05 21:36:45</th>\n",
       "      <td>2011-07-05 21:46:54</td>\n",
       "    </tr>\n",
       "    <tr>\n",
       "      <th>2011-07-05 22:25:46</th>\n",
       "      <td>2011-07-05 22:34:46</td>\n",
       "    </tr>\n",
       "    <tr>\n",
       "      <th>2011-07-05 23:29:47</th>\n",
       "      <td>2011-07-05 23:37:47</td>\n",
       "    </tr>\n",
       "  </tbody>\n",
       "</table>\n",
       "</div>"
      ],
      "text/plain": [
       "                                                       EndTime\n",
       "ThermostatId CycleType StartTime                              \n",
       "24           Cool      2011-07-03 20:55:20 2011-07-03 21:06:20\n",
       "                       2011-07-05 20:53:45 2011-07-05 21:03:51\n",
       "                       2011-07-05 21:36:45 2011-07-05 21:46:54\n",
       "                       2011-07-05 22:25:46 2011-07-05 22:34:46\n",
       "                       2011-07-05 23:29:47 2011-07-05 23:37:47"
      ]
     },
     "execution_count": 30,
     "metadata": {},
     "output_type": "execute_result"
    }
   ],
   "source": [
    "cycles_df.head()"
   ]
  },
  {
   "cell_type": "code",
   "execution_count": 31,
   "metadata": {
    "collapsed": false
   },
   "outputs": [],
   "source": [
    "inside_df = cr.create_sensors_df(inside_pickle)"
   ]
  },
  {
   "cell_type": "markdown",
   "metadata": {},
   "source": [
    "All column heading come directly from the original raw text files."
   ]
  },
  {
   "cell_type": "code",
   "execution_count": 32,
   "metadata": {
    "collapsed": false
   },
   "outputs": [
    {
     "data": {
      "text/html": [
       "<div>\n",
       "<table border=\"1\" class=\"dataframe\">\n",
       "  <thead>\n",
       "    <tr style=\"text-align: right;\">\n",
       "      <th></th>\n",
       "      <th></th>\n",
       "      <th>Degrees</th>\n",
       "    </tr>\n",
       "    <tr>\n",
       "      <th>ThermostatId</th>\n",
       "      <th>LogDate</th>\n",
       "      <th></th>\n",
       "    </tr>\n",
       "  </thead>\n",
       "  <tbody>\n",
       "    <tr>\n",
       "      <th rowspan=\"5\" valign=\"top\">24</th>\n",
       "      <th>2011-07-03 20:39:02</th>\n",
       "      <td>84</td>\n",
       "    </tr>\n",
       "    <tr>\n",
       "      <th>2011-07-03 20:55:20</th>\n",
       "      <td>85</td>\n",
       "    </tr>\n",
       "    <tr>\n",
       "      <th>2011-07-03 21:00:20</th>\n",
       "      <td>84</td>\n",
       "    </tr>\n",
       "    <tr>\n",
       "      <th>2011-07-05 20:54:45</th>\n",
       "      <td>85</td>\n",
       "    </tr>\n",
       "    <tr>\n",
       "      <th>2011-07-05 21:00:45</th>\n",
       "      <td>84</td>\n",
       "    </tr>\n",
       "  </tbody>\n",
       "</table>\n",
       "</div>"
      ],
      "text/plain": [
       "                                  Degrees\n",
       "ThermostatId LogDate                     \n",
       "24           2011-07-03 20:39:02       84\n",
       "             2011-07-03 20:55:20       85\n",
       "             2011-07-03 21:00:20       84\n",
       "             2011-07-05 20:54:45       85\n",
       "             2011-07-05 21:00:45       84"
      ]
     },
     "execution_count": 32,
     "metadata": {},
     "output_type": "execute_result"
    }
   ],
   "source": [
    "inside_df.head()"
   ]
  },
  {
   "cell_type": "code",
   "execution_count": 33,
   "metadata": {
    "collapsed": true
   },
   "outputs": [],
   "source": [
    "outside_df = cr.create_geospatial_df(outside_pickle)"
   ]
  },
  {
   "cell_type": "code",
   "execution_count": 34,
   "metadata": {
    "collapsed": false
   },
   "outputs": [
    {
     "data": {
      "text/html": [
       "<div>\n",
       "<table border=\"1\" class=\"dataframe\">\n",
       "  <thead>\n",
       "    <tr style=\"text-align: right;\">\n",
       "      <th></th>\n",
       "      <th></th>\n",
       "      <th>Degrees</th>\n",
       "    </tr>\n",
       "    <tr>\n",
       "      <th>LocationId</th>\n",
       "      <th>LogDate</th>\n",
       "      <th></th>\n",
       "    </tr>\n",
       "  </thead>\n",
       "  <tbody>\n",
       "    <tr>\n",
       "      <th rowspan=\"5\" valign=\"top\">12</th>\n",
       "      <th>2011-06-27 00:06:08</th>\n",
       "      <td>91</td>\n",
       "    </tr>\n",
       "    <tr>\n",
       "      <th>2011-08-23 09:45:15</th>\n",
       "      <td>80</td>\n",
       "    </tr>\n",
       "    <tr>\n",
       "      <th>2011-08-23 09:57:25</th>\n",
       "      <td>80</td>\n",
       "    </tr>\n",
       "    <tr>\n",
       "      <th>2011-08-23 10:17:13</th>\n",
       "      <td>84</td>\n",
       "    </tr>\n",
       "    <tr>\n",
       "      <th>2011-08-23 10:22:13</th>\n",
       "      <td>80</td>\n",
       "    </tr>\n",
       "  </tbody>\n",
       "</table>\n",
       "</div>"
      ],
      "text/plain": [
       "                                Degrees\n",
       "LocationId LogDate                     \n",
       "12         2011-06-27 00:06:08       91\n",
       "           2011-08-23 09:45:15       80\n",
       "           2011-08-23 09:57:25       80\n",
       "           2011-08-23 10:17:13       84\n",
       "           2011-08-23 10:22:13       80"
      ]
     },
     "execution_count": 34,
     "metadata": {},
     "output_type": "execute_result"
    }
   ],
   "source": [
    "outside_df.head()"
   ]
  },
  {
   "cell_type": "markdown",
   "metadata": {},
   "source": [
    "### Summarizing DataFrames"
   ]
  },
  {
   "cell_type": "markdown",
   "metadata": {},
   "source": [
    "Additional functions summarize the extent of data observations across any date range, and within days. These functions can analyze the data for groups of thermostats or filter the data by thermostat ID or location ID. This supports the creation of a data pipeline for further analysis.\n",
    "\n",
    "The functions included in the example as well as all of the other functions in the public API are described in the documentation."
   ]
  },
  {
   "cell_type": "markdown",
   "metadata": {},
   "source": [
    "#### Function df_select_ids() can take either scalar or list of ids as an argument\n",
    "\n",
    "View individual thermostat data (cycles or inside temperatures) or outside temperatures:"
   ]
  },
  {
   "cell_type": "code",
   "execution_count": 35,
   "metadata": {
    "collapsed": true
   },
   "outputs": [],
   "source": [
    "cycles_df_240 = cr.df_select_ids(cycles_df, 240) # ID for thermostat is 240"
   ]
  },
  {
   "cell_type": "code",
   "execution_count": 36,
   "metadata": {
    "collapsed": false
   },
   "outputs": [
    {
     "data": {
      "text/html": [
       "<div>\n",
       "<table border=\"1\" class=\"dataframe\">\n",
       "  <thead>\n",
       "    <tr style=\"text-align: right;\">\n",
       "      <th></th>\n",
       "      <th></th>\n",
       "      <th></th>\n",
       "      <th>EndTime</th>\n",
       "    </tr>\n",
       "    <tr>\n",
       "      <th>ThermostatId</th>\n",
       "      <th>CycleType</th>\n",
       "      <th>StartTime</th>\n",
       "      <th></th>\n",
       "    </tr>\n",
       "  </thead>\n",
       "  <tbody>\n",
       "    <tr>\n",
       "      <th rowspan=\"5\" valign=\"top\">240</th>\n",
       "      <th rowspan=\"5\" valign=\"top\">Cool</th>\n",
       "      <th>2012-03-15 17:17:22</th>\n",
       "      <td>2012-03-15 17:34:22</td>\n",
       "    </tr>\n",
       "    <tr>\n",
       "      <th>2012-03-15 17:51:22</th>\n",
       "      <td>2012-03-15 18:06:22</td>\n",
       "    </tr>\n",
       "    <tr>\n",
       "      <th>2012-03-15 18:21:22</th>\n",
       "      <td>2012-03-15 18:27:37</td>\n",
       "    </tr>\n",
       "    <tr>\n",
       "      <th>2012-03-15 18:37:22</th>\n",
       "      <td>2012-03-15 18:54:22</td>\n",
       "    </tr>\n",
       "    <tr>\n",
       "      <th>2012-03-15 19:12:22</th>\n",
       "      <td>2012-03-15 19:26:22</td>\n",
       "    </tr>\n",
       "  </tbody>\n",
       "</table>\n",
       "</div>"
      ],
      "text/plain": [
       "                                                       EndTime\n",
       "ThermostatId CycleType StartTime                              \n",
       "240          Cool      2012-03-15 17:17:22 2012-03-15 17:34:22\n",
       "                       2012-03-15 17:51:22 2012-03-15 18:06:22\n",
       "                       2012-03-15 18:21:22 2012-03-15 18:27:37\n",
       "                       2012-03-15 18:37:22 2012-03-15 18:54:22\n",
       "                       2012-03-15 19:12:22 2012-03-15 19:26:22"
      ]
     },
     "execution_count": 36,
     "metadata": {},
     "output_type": "execute_result"
    }
   ],
   "source": [
    "cycles_df_240.head()"
   ]
  },
  {
   "cell_type": "markdown",
   "metadata": {},
   "source": [
    "#### Function df_select_datetime_range() selects a range based on either string-formatted datetimes or datetime.datetime values.\n",
    "\n",
    "It can be applied whether or not df_select_ids() has been applied."
   ]
  },
  {
   "cell_type": "code",
   "execution_count": 37,
   "metadata": {
    "collapsed": false
   },
   "outputs": [
    {
     "data": {
      "text/html": [
       "<div>\n",
       "<table border=\"1\" class=\"dataframe\">\n",
       "  <thead>\n",
       "    <tr style=\"text-align: right;\">\n",
       "      <th></th>\n",
       "      <th></th>\n",
       "      <th></th>\n",
       "      <th>EndTime</th>\n",
       "    </tr>\n",
       "    <tr>\n",
       "      <th>ThermostatId</th>\n",
       "      <th>CycleType</th>\n",
       "      <th>StartTime</th>\n",
       "      <th></th>\n",
       "    </tr>\n",
       "  </thead>\n",
       "  <tbody>\n",
       "    <tr>\n",
       "      <th rowspan=\"3\" valign=\"top\">240</th>\n",
       "      <th rowspan=\"3\" valign=\"top\">Cool</th>\n",
       "      <th>2012-06-01 15:46:27</th>\n",
       "      <td>2012-06-01 16:19:26</td>\n",
       "    </tr>\n",
       "    <tr>\n",
       "      <th>2012-06-01 17:01:42</th>\n",
       "      <td>2012-06-01 17:56:27</td>\n",
       "    </tr>\n",
       "    <tr>\n",
       "      <th>2012-06-01 18:34:27</th>\n",
       "      <td>2012-06-01 19:12:28</td>\n",
       "    </tr>\n",
       "  </tbody>\n",
       "</table>\n",
       "</div>"
      ],
      "text/plain": [
       "                                                       EndTime\n",
       "ThermostatId CycleType StartTime                              \n",
       "240          Cool      2012-06-01 15:46:27 2012-06-01 16:19:26\n",
       "                       2012-06-01 17:01:42 2012-06-01 17:56:27\n",
       "                       2012-06-01 18:34:27 2012-06-01 19:12:28"
      ]
     },
     "execution_count": 37,
     "metadata": {},
     "output_type": "execute_result"
    }
   ],
   "source": [
    "cr.df_select_datetime_range(cycles_df_240, '2012-06-01 15:00:00','2012-06-01 20:00:00')"
   ]
  },
  {
   "cell_type": "code",
   "execution_count": 38,
   "metadata": {
    "collapsed": false
   },
   "outputs": [],
   "source": [
    "inside_df_240 = cr.df_select_ids(inside_df, 240)"
   ]
  },
  {
   "cell_type": "code",
   "execution_count": 39,
   "metadata": {
    "collapsed": true
   },
   "outputs": [],
   "source": [
    "inside_df_240 = cr.df_select_datetime_range(inside_df_240, '2012-07-11 14:00:00', '2012-07-11 16:00:00')"
   ]
  },
  {
   "cell_type": "code",
   "execution_count": 40,
   "metadata": {
    "collapsed": false
   },
   "outputs": [
    {
     "data": {
      "text/html": [
       "<div>\n",
       "<table border=\"1\" class=\"dataframe\">\n",
       "  <thead>\n",
       "    <tr style=\"text-align: right;\">\n",
       "      <th></th>\n",
       "      <th></th>\n",
       "      <th>Degrees</th>\n",
       "    </tr>\n",
       "    <tr>\n",
       "      <th>ThermostatId</th>\n",
       "      <th>LogDate</th>\n",
       "      <th></th>\n",
       "    </tr>\n",
       "  </thead>\n",
       "  <tbody>\n",
       "    <tr>\n",
       "      <th rowspan=\"5\" valign=\"top\">240</th>\n",
       "      <th>2012-07-11 14:00:28</th>\n",
       "      <td>77</td>\n",
       "    </tr>\n",
       "    <tr>\n",
       "      <th>2012-07-11 14:04:26</th>\n",
       "      <td>76</td>\n",
       "    </tr>\n",
       "    <tr>\n",
       "      <th>2012-07-11 14:15:23</th>\n",
       "      <td>75</td>\n",
       "    </tr>\n",
       "    <tr>\n",
       "      <th>2012-07-11 14:28:19</th>\n",
       "      <td>76</td>\n",
       "    </tr>\n",
       "    <tr>\n",
       "      <th>2012-07-11 14:44:14</th>\n",
       "      <td>77</td>\n",
       "    </tr>\n",
       "  </tbody>\n",
       "</table>\n",
       "</div>"
      ],
      "text/plain": [
       "                                  Degrees\n",
       "ThermostatId LogDate                     \n",
       "240          2012-07-11 14:00:28       77\n",
       "             2012-07-11 14:04:26       76\n",
       "             2012-07-11 14:15:23       75\n",
       "             2012-07-11 14:28:19       76\n",
       "             2012-07-11 14:44:14       77"
      ]
     },
     "execution_count": 40,
     "metadata": {},
     "output_type": "execute_result"
    }
   ],
   "source": [
    "inside_df_240.head()"
   ]
  },
  {
   "cell_type": "markdown",
   "metadata": {},
   "source": [
    "#### Selecting ID and slicing on date ranges (pure pandas approach)"
   ]
  },
  {
   "cell_type": "code",
   "execution_count": 41,
   "metadata": {
    "collapsed": true
   },
   "outputs": [],
   "source": [
    "idx = pd.IndexSlice"
   ]
  },
  {
   "cell_type": "markdown",
   "metadata": {},
   "source": [
    "Sensor data in a DataFrame can be selected based on a sensor ID or IDs (through slicing) and/or a date range."
   ]
  },
  {
   "cell_type": "code",
   "execution_count": 42,
   "metadata": {
    "collapsed": false
   },
   "outputs": [
    {
     "data": {
      "text/html": [
       "<div>\n",
       "<table border=\"1\" class=\"dataframe\">\n",
       "  <thead>\n",
       "    <tr style=\"text-align: right;\">\n",
       "      <th></th>\n",
       "      <th></th>\n",
       "      <th>Degrees</th>\n",
       "    </tr>\n",
       "    <tr>\n",
       "      <th>ThermostatId</th>\n",
       "      <th>LogDate</th>\n",
       "      <th></th>\n",
       "    </tr>\n",
       "  </thead>\n",
       "  <tbody>\n",
       "    <tr>\n",
       "      <th rowspan=\"5\" valign=\"top\">240</th>\n",
       "      <th>2012-07-11 11:55:47</th>\n",
       "      <td>77</td>\n",
       "    </tr>\n",
       "    <tr>\n",
       "      <th>2012-07-11 12:02:45</th>\n",
       "      <td>78</td>\n",
       "    </tr>\n",
       "    <tr>\n",
       "      <th>2012-07-11 12:16:41</th>\n",
       "      <td>77</td>\n",
       "    </tr>\n",
       "    <tr>\n",
       "      <th>2012-07-11 12:23:39</th>\n",
       "      <td>76</td>\n",
       "    </tr>\n",
       "    <tr>\n",
       "      <th>2012-07-11 12:34:35</th>\n",
       "      <td>75</td>\n",
       "    </tr>\n",
       "  </tbody>\n",
       "</table>\n",
       "</div>"
      ],
      "text/plain": [
       "                                  Degrees\n",
       "ThermostatId LogDate                     \n",
       "240          2012-07-11 11:55:47       77\n",
       "             2012-07-11 12:02:45       78\n",
       "             2012-07-11 12:16:41       77\n",
       "             2012-07-11 12:23:39       76\n",
       "             2012-07-11 12:34:35       75"
      ]
     },
     "execution_count": 42,
     "metadata": {},
     "output_type": "execute_result"
    }
   ],
   "source": [
    "inside_df.loc[idx[240,'2012-07-11 11:45:00':'2012-07-11 16:30:00'],:].head()"
   ]
  },
  {
   "cell_type": "markdown",
   "metadata": {},
   "source": [
    "Note that because the cycles DataFrame has one more column in the index for the cycle mode, the slice has an additional ':' between the sensor ID of 240 (in this case, the sensor is a thermostat) and the date range."
   ]
  },
  {
   "cell_type": "code",
   "execution_count": 43,
   "metadata": {
    "collapsed": false
   },
   "outputs": [
    {
     "data": {
      "text/html": [
       "<div>\n",
       "<table border=\"1\" class=\"dataframe\">\n",
       "  <thead>\n",
       "    <tr style=\"text-align: right;\">\n",
       "      <th></th>\n",
       "      <th></th>\n",
       "      <th></th>\n",
       "      <th>EndTime</th>\n",
       "    </tr>\n",
       "    <tr>\n",
       "      <th>ThermostatId</th>\n",
       "      <th>CycleType</th>\n",
       "      <th>StartTime</th>\n",
       "      <th></th>\n",
       "    </tr>\n",
       "  </thead>\n",
       "  <tbody>\n",
       "    <tr>\n",
       "      <th rowspan=\"3\" valign=\"top\">240</th>\n",
       "      <th rowspan=\"3\" valign=\"top\">Cool</th>\n",
       "      <th>2012-07-11 11:55:47</th>\n",
       "      <td>2012-07-11 12:28:37</td>\n",
       "    </tr>\n",
       "    <tr>\n",
       "      <th>2012-07-11 13:35:35</th>\n",
       "      <td>2012-07-11 14:08:25</td>\n",
       "    </tr>\n",
       "    <tr>\n",
       "      <th>2012-07-11 14:40:15</th>\n",
       "      <td>2012-07-11 15:21:02</td>\n",
       "    </tr>\n",
       "  </tbody>\n",
       "</table>\n",
       "</div>"
      ],
      "text/plain": [
       "                                                       EndTime\n",
       "ThermostatId CycleType StartTime                              \n",
       "240          Cool      2012-07-11 11:55:47 2012-07-11 12:28:37\n",
       "                       2012-07-11 13:35:35 2012-07-11 14:08:25\n",
       "                       2012-07-11 14:40:15 2012-07-11 15:21:02"
      ]
     },
     "execution_count": 43,
     "metadata": {},
     "output_type": "execute_result"
    }
   ],
   "source": [
    "cycles_df.loc[idx[240,:,'2012-07-11 11:45:00':'2012-07-11 16:30:00'],:].head()"
   ]
  },
  {
   "cell_type": "markdown",
   "metadata": {},
   "source": [
    "#### Function location_id_of_thermo() - location of thermostat, if available"
   ]
  },
  {
   "cell_type": "markdown",
   "metadata": {},
   "source": [
    "See example data file assigned to the variable thermostats_file in the Github repository"
   ]
  },
  {
   "cell_type": "code",
   "execution_count": 44,
   "metadata": {
    "collapsed": false
   },
   "outputs": [],
   "source": [
    "location_id = cr.location_id_of_sensor(240, thermostats_file)"
   ]
  },
  {
   "cell_type": "markdown",
   "metadata": {},
   "source": [
    "Outside temperatures at thermostat location"
   ]
  },
  {
   "cell_type": "code",
   "execution_count": 45,
   "metadata": {
    "collapsed": false
   },
   "outputs": [],
   "source": [
    "outside_temps_240 = cr.df_select_ids(outside_df, location_id)"
   ]
  },
  {
   "cell_type": "code",
   "execution_count": 46,
   "metadata": {
    "collapsed": true
   },
   "outputs": [],
   "source": [
    "outside_temps_240 = cr.df_select_datetime_range(outside_temps_240, '2012-07-11 14:30:00', '2012-07-11 16:30:00')"
   ]
  },
  {
   "cell_type": "code",
   "execution_count": 47,
   "metadata": {
    "collapsed": false
   },
   "outputs": [
    {
     "data": {
      "text/html": [
       "<div>\n",
       "<table border=\"1\" class=\"dataframe\">\n",
       "  <thead>\n",
       "    <tr style=\"text-align: right;\">\n",
       "      <th></th>\n",
       "      <th></th>\n",
       "      <th>Degrees</th>\n",
       "    </tr>\n",
       "    <tr>\n",
       "      <th>LocationId</th>\n",
       "      <th>LogDate</th>\n",
       "      <th></th>\n",
       "    </tr>\n",
       "  </thead>\n",
       "  <tbody>\n",
       "    <tr>\n",
       "      <th rowspan=\"3\" valign=\"top\">70</th>\n",
       "      <th>2012-07-11 14:52:11</th>\n",
       "      <td>84</td>\n",
       "    </tr>\n",
       "    <tr>\n",
       "      <th>2012-07-11 15:12:05</th>\n",
       "      <td>88</td>\n",
       "    </tr>\n",
       "    <tr>\n",
       "      <th>2012-07-11 16:11:47</th>\n",
       "      <td>75</td>\n",
       "    </tr>\n",
       "  </tbody>\n",
       "</table>\n",
       "</div>"
      ],
      "text/plain": [
       "                                Degrees\n",
       "LocationId LogDate                     \n",
       "70         2012-07-11 14:52:11       84\n",
       "           2012-07-11 15:12:05       88\n",
       "           2012-07-11 16:11:47       75"
      ]
     },
     "execution_count": 47,
     "metadata": {},
     "output_type": "execute_result"
    }
   ],
   "source": [
    "outside_temps_240.head()"
   ]
  },
  {
   "cell_type": "markdown",
   "metadata": {},
   "source": [
    "Pure pandas approach"
   ]
  },
  {
   "cell_type": "code",
   "execution_count": 48,
   "metadata": {
    "collapsed": false
   },
   "outputs": [
    {
     "data": {
      "text/html": [
       "<div>\n",
       "<table border=\"1\" class=\"dataframe\">\n",
       "  <thead>\n",
       "    <tr style=\"text-align: right;\">\n",
       "      <th></th>\n",
       "      <th></th>\n",
       "      <th>Degrees</th>\n",
       "    </tr>\n",
       "    <tr>\n",
       "      <th>LocationId</th>\n",
       "      <th>LogDate</th>\n",
       "      <th></th>\n",
       "    </tr>\n",
       "  </thead>\n",
       "  <tbody>\n",
       "    <tr>\n",
       "      <th rowspan=\"3\" valign=\"top\">70</th>\n",
       "      <th>2012-07-11 14:52:11</th>\n",
       "      <td>84</td>\n",
       "    </tr>\n",
       "    <tr>\n",
       "      <th>2012-07-11 15:12:05</th>\n",
       "      <td>88</td>\n",
       "    </tr>\n",
       "    <tr>\n",
       "      <th>2012-07-11 16:11:47</th>\n",
       "      <td>75</td>\n",
       "    </tr>\n",
       "  </tbody>\n",
       "</table>\n",
       "</div>"
      ],
      "text/plain": [
       "                                Degrees\n",
       "LocationId LogDate                     \n",
       "70         2012-07-11 14:52:11       84\n",
       "           2012-07-11 15:12:05       88\n",
       "           2012-07-11 16:11:47       75"
      ]
     },
     "execution_count": 48,
     "metadata": {},
     "output_type": "execute_result"
    }
   ],
   "source": [
    "outside_df.loc[idx[location_id,'2012-07-11 14:30:00':'2012-07-11 16:30:00'],:].head()"
   ]
  },
  {
   "cell_type": "markdown",
   "metadata": {},
   "source": [
    "#### Function days_of_data_by_id()\n",
    "\n",
    "Number of days with data per ID (in cycles data, IDs are assigned to thermostats)"
   ]
  },
  {
   "cell_type": "code",
   "execution_count": 49,
   "metadata": {
    "collapsed": false
   },
   "outputs": [],
   "source": [
    "days_cycle_data_by_id = cr.days_of_data_by_id(cycles_df)"
   ]
  },
  {
   "cell_type": "code",
   "execution_count": 50,
   "metadata": {
    "collapsed": false
   },
   "outputs": [
    {
     "data": {
      "text/html": [
       "<div>\n",
       "<table border=\"1\" class=\"dataframe\">\n",
       "  <thead>\n",
       "    <tr style=\"text-align: right;\">\n",
       "      <th></th>\n",
       "      <th>Days</th>\n",
       "    </tr>\n",
       "    <tr>\n",
       "      <th>ThermostatId</th>\n",
       "      <th></th>\n",
       "    </tr>\n",
       "  </thead>\n",
       "  <tbody>\n",
       "    <tr>\n",
       "      <th>24</th>\n",
       "      <td>18</td>\n",
       "    </tr>\n",
       "    <tr>\n",
       "      <th>31</th>\n",
       "      <td>11</td>\n",
       "    </tr>\n",
       "  </tbody>\n",
       "</table>\n",
       "</div>"
      ],
      "text/plain": [
       "              Days\n",
       "ThermostatId      \n",
       "24              18\n",
       "31              11"
      ]
     },
     "execution_count": 50,
     "metadata": {},
     "output_type": "execute_result"
    }
   ],
   "source": [
    "days_cycle_data_by_id[0:2]"
   ]
  },
  {
   "cell_type": "markdown",
   "metadata": {},
   "source": [
    "#### Function df_select_ids()\n",
    "\n",
    "In this example, select records for a list of IDs instead of a single ID"
   ]
  },
  {
   "cell_type": "code",
   "execution_count": 51,
   "metadata": {
    "collapsed": false
   },
   "outputs": [
    {
     "data": {
      "text/html": [
       "<div>\n",
       "<table border=\"1\" class=\"dataframe\">\n",
       "  <thead>\n",
       "    <tr style=\"text-align: right;\">\n",
       "      <th></th>\n",
       "      <th>Days</th>\n",
       "    </tr>\n",
       "    <tr>\n",
       "      <th>ThermostatId</th>\n",
       "      <th></th>\n",
       "    </tr>\n",
       "  </thead>\n",
       "  <tbody>\n",
       "    <tr>\n",
       "      <th>92</th>\n",
       "      <td>215</td>\n",
       "    </tr>\n",
       "    <tr>\n",
       "      <th>93</th>\n",
       "      <td>234</td>\n",
       "    </tr>\n",
       "  </tbody>\n",
       "</table>\n",
       "</div>"
      ],
      "text/plain": [
       "              Days\n",
       "ThermostatId      \n",
       "92             215\n",
       "93             234"
      ]
     },
     "execution_count": 51,
     "metadata": {},
     "output_type": "execute_result"
    }
   ],
   "source": [
    "cr.df_select_ids(days_cycle_data_by_id, [92,93])"
   ]
  },
  {
   "cell_type": "markdown",
   "metadata": {},
   "source": [
    "#### Function daily_data_points_by_id()\n",
    "\n",
    "Shows count of daily observations for a DataFrame for an ID"
   ]
  },
  {
   "cell_type": "code",
   "execution_count": 52,
   "metadata": {
    "collapsed": false
   },
   "outputs": [],
   "source": [
    "daily_data_240 = cr.daily_data_points_by_id(inside_df, id=240)"
   ]
  },
  {
   "cell_type": "code",
   "execution_count": 53,
   "metadata": {
    "collapsed": false
   },
   "outputs": [
    {
     "data": {
      "text/html": [
       "<div>\n",
       "<table border=\"1\" class=\"dataframe\">\n",
       "  <thead>\n",
       "    <tr style=\"text-align: right;\">\n",
       "      <th></th>\n",
       "      <th></th>\n",
       "      <th>Degrees</th>\n",
       "    </tr>\n",
       "    <tr>\n",
       "      <th>ThermostatId</th>\n",
       "      <th>LogDate</th>\n",
       "      <th></th>\n",
       "    </tr>\n",
       "  </thead>\n",
       "  <tbody>\n",
       "    <tr>\n",
       "      <th rowspan=\"5\" valign=\"top\">240</th>\n",
       "      <th>2011-11-17</th>\n",
       "      <td>30</td>\n",
       "    </tr>\n",
       "    <tr>\n",
       "      <th>2011-11-18</th>\n",
       "      <td>55</td>\n",
       "    </tr>\n",
       "    <tr>\n",
       "      <th>2011-11-19</th>\n",
       "      <td>19</td>\n",
       "    </tr>\n",
       "    <tr>\n",
       "      <th>2011-11-20</th>\n",
       "      <td>29</td>\n",
       "    </tr>\n",
       "    <tr>\n",
       "      <th>2011-11-21</th>\n",
       "      <td>3</td>\n",
       "    </tr>\n",
       "  </tbody>\n",
       "</table>\n",
       "</div>"
      ],
      "text/plain": [
       "                         Degrees\n",
       "ThermostatId LogDate            \n",
       "240          2011-11-17       30\n",
       "             2011-11-18       55\n",
       "             2011-11-19       19\n",
       "             2011-11-20       29\n",
       "             2011-11-21        3"
      ]
     },
     "execution_count": 53,
     "metadata": {},
     "output_type": "execute_result"
    }
   ],
   "source": [
    "daily_data_240.head()"
   ]
  },
  {
   "cell_type": "code",
   "execution_count": 54,
   "metadata": {
    "collapsed": false
   },
   "outputs": [
    {
     "data": {
      "text/html": [
       "<div>\n",
       "<table border=\"1\" class=\"dataframe\">\n",
       "  <thead>\n",
       "    <tr style=\"text-align: right;\">\n",
       "      <th></th>\n",
       "      <th></th>\n",
       "      <th>Temperature Readings (Count)</th>\n",
       "    </tr>\n",
       "    <tr>\n",
       "      <th>ThermostatId</th>\n",
       "      <th>LogDate</th>\n",
       "      <th></th>\n",
       "    </tr>\n",
       "  </thead>\n",
       "  <tbody>\n",
       "    <tr>\n",
       "      <th rowspan=\"5\" valign=\"top\">240</th>\n",
       "      <th>2011-11-17</th>\n",
       "      <td>30</td>\n",
       "    </tr>\n",
       "    <tr>\n",
       "      <th>2011-11-18</th>\n",
       "      <td>55</td>\n",
       "    </tr>\n",
       "    <tr>\n",
       "      <th>2011-11-19</th>\n",
       "      <td>19</td>\n",
       "    </tr>\n",
       "    <tr>\n",
       "      <th>2011-11-20</th>\n",
       "      <td>29</td>\n",
       "    </tr>\n",
       "    <tr>\n",
       "      <th>2011-11-21</th>\n",
       "      <td>3</td>\n",
       "    </tr>\n",
       "  </tbody>\n",
       "</table>\n",
       "</div>"
      ],
      "text/plain": [
       "                         Temperature Readings (Count)\n",
       "ThermostatId LogDate                                 \n",
       "240          2011-11-17                            30\n",
       "             2011-11-18                            55\n",
       "             2011-11-19                            19\n",
       "             2011-11-20                            29\n",
       "             2011-11-21                             3"
      ]
     },
     "execution_count": 54,
     "metadata": {},
     "output_type": "execute_result"
    }
   ],
   "source": [
    "daily_data_240.columns = ['Temperature Readings (Count)']\n",
    "daily_data_240.head()"
   ]
  },
  {
   "cell_type": "markdown",
   "metadata": {},
   "source": [
    "### Thermostat operations and temperature - plot as time series"
   ]
  },
  {
   "cell_type": "markdown",
   "metadata": {},
   "source": [
    "**time_series_cycling_and_temps()**, **plot_cycles_xy** and **plot_temps_xy**"
   ]
  },
  {
   "cell_type": "markdown",
   "metadata": {},
   "source": [
    "The output of time_series_cycling_and_temps() is used as input to the plot_cycles_xy() and plot_temps_xy() functions."
   ]
  },
  {
   "cell_type": "code",
   "execution_count": 55,
   "metadata": {
    "collapsed": false
   },
   "outputs": [],
   "source": [
    "start = dt.datetime(2012, 7, 11, 11, 0)\n",
    "end = dt.datetime(2012, 7, 11, 19, 0)\n",
    "cycles_and_temps_240 = cr.cycling_and_obs_arrays(cycles_df=cycles_df, cycling_id=240, start=start, end=end,\n",
    "                                                 sensors_df=inside_df, sensor_id=240, freq='1min')"
   ]
  },
  {
   "cell_type": "code",
   "execution_count": 56,
   "metadata": {
    "collapsed": false
   },
   "outputs": [],
   "source": [
    "cycles_x, cycles_y = cr.plot_cycles_xy(cycles_and_temps_240)\n",
    "temps_x, temps_y = cr.plot_sensor_geo_xy(cycles_and_temps_240)"
   ]
  },
  {
   "cell_type": "code",
   "execution_count": 57,
   "metadata": {
    "collapsed": false
   },
   "outputs": [
    {
     "data": {
      "image/png": "[encoded data removed]",
      "text/plain": [
       "<matplotlib.figure.Figure at 0x7fc21e08f438>"
      ]
     },
     "metadata": {},
     "output_type": "display_data"
    }
   ],
   "source": [
    "fig, ax1 = plt.subplots()\n",
    "\n",
    "ax1.xaxis.set_major_formatter(mdates.DateFormatter('%H:%M:%S'))\n",
    "ax1.set_ylim(60.0,80.0)\n",
    "ax1.set_xlabel('Time')\n",
    "ax1.set_ylabel('Degrees (F)')\n",
    "ax1.plot(temps_x, temps_y, marker='o', color='r')\n",
    "ax2 = ax1.twinx()\n",
    "ax2.set_ylim(0.0, 1.)\n",
    "ax2.set_ylabel('ON/OFF (1/0)')\n",
    "ax2.set_yticks([1.0])\n",
    "ax2.yaxis.grid(False)\n",
    "ax2.plot(cycles_x, cycles_y)\n",
    "fig.set_size_inches(8, 4.5)\n",
    "plt.title('Thermostat Operation (ON/OFF) and Indoor Temperature')\n",
    "plt.show() # Note: timestamps in underlying data are from polling processes that have up to a minute delay."
   ]
  }
 ],
 "metadata": {
  "anaconda-cloud": {},
  "kernelspec": {
   "display_name": "Python [conda env:tl_cycing_34]",
   "language": "python",
   "name": "conda-env-tl_cycing_34-py"
  },
  "language_info": {
   "codemirror_mode": {
    "name": "ipython",
    "version": 3
   },
   "file_extension": ".py",
   "mimetype": "text/x-python",
   "name": "python",
   "nbconvert_exporter": "python",
   "pygments_lexer": "ipython3",
   "version": "3.4.5"
  }
 },
 "nbformat": 4,
 "nbformat_minor": 0
}
